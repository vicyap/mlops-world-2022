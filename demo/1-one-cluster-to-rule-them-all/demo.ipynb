{
 "cells": [
  {
   "cell_type": "markdown",
   "id": "fdd5985e",
   "metadata": {},
   "source": [
    "# Demo"
   ]
  },
  {
   "cell_type": "code",
   "execution_count": 1,
   "id": "336cc1ec",
   "metadata": {},
   "outputs": [
    {
     "name": "stdout",
     "output_type": "stream",
     "text": [
      "1.12.1\n"
     ]
    },
    {
     "data": {
      "text/plain": [
       "ClientContext(dashboard_url='10.0.2.103:8265', python_version='3.8.5', ray_version='1.12.1', ray_commit='4863e33856b54ccf8add5cbe75e41558850a1b75', protocol_version='2022-03-16', _num_clients=1, _context_to_restore=<ray.util.client._ClientContext object at 0x7fd840de4c70>)"
      ]
     },
     "execution_count": 1,
     "metadata": {},
     "output_type": "execute_result"
    }
   ],
   "source": [
    "import ray\n",
    "\n",
    "print(ray.__version__)\n",
    "ray.shutdown()\n",
    "# ray.init connects to the cluster\n",
    "ray.init(\"ray://127.0.0.1:10001\")"
   ]
  },
  {
   "cell_type": "code",
   "execution_count": 2,
   "id": "d95d5666",
   "metadata": {},
   "outputs": [],
   "source": [
    "import time\n",
    "from contextlib import contextmanager\n",
    "\n",
    "@contextmanager\n",
    "def timer():\n",
    "    \"\"\"Context manager to measure running time of code.\"\"\"\n",
    "    start = time.time()\n",
    "    yield\n",
    "    time_elapsed = round(time.time() - start)\n",
    "    print(f\"timer: took {time_elapsed} seconds\")"
   ]
  },
  {
   "cell_type": "code",
   "execution_count": 3,
   "id": "3edda320",
   "metadata": {},
   "outputs": [],
   "source": [
    "def get_instance_type():\n",
    "    \"\"\"Returns what instance type this function is running on.\"\"\"\n",
    "    import requests\n",
    "    token = requests.put(\n",
    "        \"http://169.254.169.254/latest/api/token\",\n",
    "        headers={\"X-aws-ec2-metadata-token-ttl-seconds\": \"21600\"}\n",
    "    ).text\n",
    "    instance_type = requests.get(\n",
    "        \"http://169.254.169.254/latest/meta-data/instance-type\",\n",
    "        headers={\"X-aws-ec2-metadata-token\": token},\n",
    "    ).text\n",
    "    return instance_type"
   ]
  },
  {
   "cell_type": "code",
   "execution_count": 4,
   "id": "c76c5ee2",
   "metadata": {},
   "outputs": [],
   "source": [
    "def print_cluster_resources():\n",
    "    \"\"\"Prints the CPUs, memory and GPUs of the current Ray cluster.\"\"\"\n",
    "    cluster_resources = ray.cluster_resources()\n",
    "    CPUs = int(cluster_resources[\"CPU\"])\n",
    "    memory = round(cluster_resources[\"memory\"] / (1000 ** 3))\n",
    "    GPUs = round(cluster_resources.get(\"GPU\", 0))\n",
    "    print(f\"CPUs = {CPUs}, memory = {memory}G, GPUs = {GPUs}\")"
   ]
  },
  {
   "cell_type": "markdown",
   "id": "00730529",
   "metadata": {},
   "source": [
    "---"
   ]
  },
  {
   "cell_type": "code",
   "execution_count": null,
   "id": "da73978a",
   "metadata": {},
   "outputs": [],
   "source": [
    "@ray.remote(num_cpus=1, memory=1000 ** 3)\n",
    "def preprocess(data):\n",
    "    time.sleep(1)\n",
    "    return get_instance_type()\n",
    "\n",
    "with timer():\n",
    "    print(ray.get(preprocess.remote(\"data\")))"
   ]
  },
  {
   "cell_type": "code",
   "execution_count": null,
   "id": "7c1c5143",
   "metadata": {},
   "outputs": [],
   "source": [
    "print_cluster_resources()\n",
    "\n",
    "from collections import Counter\n",
    "with timer():\n",
    "    print(Counter(\n",
    "        ray.get([preprocess.remote(x) for x in range(60)])\n",
    "    ))"
   ]
  },
  {
   "cell_type": "code",
   "execution_count": null,
   "id": "c4c61390",
   "metadata": {},
   "outputs": [],
   "source": [
    "from collections import Counter\n",
    "with timer():\n",
    "    print(Counter(\n",
    "        ray.get([preprocess.remote(x) for x in range(6000)])\n",
    "    ))\n",
    "\n",
    "print_cluster_resources()"
   ]
  },
  {
   "cell_type": "markdown",
   "id": "168f05cb",
   "metadata": {},
   "source": [
    "---"
   ]
  },
  {
   "cell_type": "code",
   "execution_count": 5,
   "id": "fbec474b",
   "metadata": {},
   "outputs": [
    {
     "name": "stdout",
     "output_type": "stream",
     "text": [
      "i4i.8xlarge\n",
      "CPUs = 34, memory = 197G, GPUs = 0\n"
     ]
    }
   ],
   "source": [
    "@ray.remote(memory=100 * (1000 ** 3))\n",
    "def preprocess_big_data():\n",
    "    return get_instance_type()\n",
    "\n",
    "print(ray.get(preprocess_big_data.remote()))\n",
    "print_cluster_resources()"
   ]
  },
  {
   "cell_type": "code",
   "execution_count": 6,
   "id": "70878950",
   "metadata": {},
   "outputs": [
    {
     "name": "stdout",
     "output_type": "stream",
     "text": [
      "p2.xlarge\n",
      "timer: took 178 seconds\n",
      "CPUs = 37, memory = 239G, GPUs = 1\n"
     ]
    }
   ],
   "source": [
    "@ray.remote(num_gpus=4, accelerator_type=\"p2\")\n",
    "def train():\n",
    "    return get_instance_type()\n",
    "\n",
    "with timer():\n",
    "    print(ray.get(train.remote()))\n",
    "print_cluster_resources()\n",
    "# does not work due to this bug:\n",
    "# https://github.com/aws/karpenter/pull/1837"
   ]
  },
  {
   "cell_type": "markdown",
   "id": "86bab9bb",
   "metadata": {},
   "source": [
    "---\n",
    "\n",
    "---\n",
    "\n",
    "---"
   ]
  },
  {
   "cell_type": "code",
   "execution_count": null,
   "id": "183577b9",
   "metadata": {
    "scrolled": true
   },
   "outputs": [],
   "source": [
    "from ray.autoscaler.sdk import request_resources"
   ]
  },
  {
   "cell_type": "code",
   "execution_count": null,
   "id": "1e421185",
   "metadata": {},
   "outputs": [],
   "source": [
    "!kubectl get no -L node.kubernetes.io/instance-type,karpenter.sh/capacity-type"
   ]
  }
 ],
 "metadata": {
  "kernelspec": {
   "display_name": "mlops-world-22-demo",
   "language": "python",
   "name": "mlops-world-22-demo"
  },
  "language_info": {
   "codemirror_mode": {
    "name": "ipython",
    "version": 3
   },
   "file_extension": ".py",
   "mimetype": "text/x-python",
   "name": "python",
   "nbconvert_exporter": "python",
   "pygments_lexer": "ipython3",
   "version": "3.8.8"
  }
 },
 "nbformat": 4,
 "nbformat_minor": 5
}
