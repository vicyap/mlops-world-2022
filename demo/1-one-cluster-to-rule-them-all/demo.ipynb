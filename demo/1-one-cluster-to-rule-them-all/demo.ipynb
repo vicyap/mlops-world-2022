{
 "cells": [
  {
   "cell_type": "markdown",
   "id": "cc76ab42",
   "metadata": {},
   "source": [
    "# Demo"
   ]
  },
  {
   "cell_type": "code",
   "execution_count": null,
   "id": "336cc1ec",
   "metadata": {},
   "outputs": [],
   "source": [
    "import time\n",
    "import ray\n",
    "print(ray.__version__)"
   ]
  },
  {
   "cell_type": "code",
   "execution_count": null,
   "id": "e216768f",
   "metadata": {},
   "outputs": [],
   "source": [
    "ray.shutdown()\n",
    "ray.init(\"ray://127.0.0.1:10001\")"
   ]
  },
  {
   "cell_type": "code",
   "execution_count": null,
   "id": "6299f0fc",
   "metadata": {},
   "outputs": [],
   "source": [
    "from contextlib import contextmanager\n",
    "\n",
    "@contextmanager\n",
    "def timer():\n",
    "    \"\"\"Context manager to measure running time of code.\"\"\"\n",
    "    start = time.time()\n",
    "    yield\n",
    "    time_elapsed = round(time.time() - start)\n",
    "    print(f\"timer: took {time_elapsed} seconds\")"
   ]
  },
  {
   "cell_type": "code",
   "execution_count": null,
   "id": "5bf8fb1e",
   "metadata": {},
   "outputs": [],
   "source": [
    "def get_instance_type():\n",
    "    \"\"\"Returns what instance type this function is running on.\"\"\"\n",
    "    import requests\n",
    "    token = requests.put(\n",
    "        \"http://169.254.169.254/latest/api/token\",\n",
    "        headers={\"X-aws-ec2-metadata-token-ttl-seconds\": \"21600\"}\n",
    "    ).text\n",
    "    return requests.get(\n",
    "        \"http://169.254.169.254/latest/meta-data/instance-type\",\n",
    "        headers={\"X-aws-ec2-metadata-token\": token},\n",
    "    ).text"
   ]
  },
  {
   "cell_type": "markdown",
   "id": "10576bd0",
   "metadata": {},
   "source": [
    "---"
   ]
  },
  {
   "cell_type": "code",
   "execution_count": null,
   "id": "d8a99130",
   "metadata": {},
   "outputs": [],
   "source": [
    "@ray.remote(\n",
    "    num_cpus=1,\n",
    "    memory=1024 ** 3,\n",
    ")\n",
    "def preprocess():\n",
    "    time.sleep(1)\n",
    "    return get_instance_type()"
   ]
  },
  {
   "cell_type": "code",
   "execution_count": null,
   "id": "73b9fd6c",
   "metadata": {},
   "outputs": [],
   "source": [
    "with timer():\n",
    "    print(ray.get(preprocess.remote()))"
   ]
  },
  {
   "cell_type": "code",
   "execution_count": null,
   "id": "e7cca4b4",
   "metadata": {},
   "outputs": [],
   "source": [
    "from collections import Counter\n",
    "\n",
    "with timer():\n",
    "    print(Counter(\n",
    "        ray.get([preprocess.remote() for _ in range(60)])\n",
    "    ))"
   ]
  },
  {
   "cell_type": "code",
   "execution_count": null,
   "id": "7611a69f",
   "metadata": {},
   "outputs": [],
   "source": [
    "with timer():\n",
    "    print(Counter(\n",
    "        ray.get([preprocess.remote() for _ in range(6000)])\n",
    "    ))"
   ]
  },
  {
   "cell_type": "markdown",
   "id": "0b5af47b",
   "metadata": {},
   "source": [
    "---"
   ]
  },
  {
   "cell_type": "code",
   "execution_count": null,
   "id": "f2d87ad7",
   "metadata": {},
   "outputs": [],
   "source": [
    "@ray.remote(num_gpus=1, accelerator_type=\"p2\")\n",
    "def train():\n",
    "    time.sleep(1)\n",
    "    return get_instance_type()\n",
    "\n",
    "with timer():\n",
    "    print(ray.get(train.remote()))"
   ]
  },
  {
   "cell_type": "code",
   "execution_count": null,
   "id": "2f689cbf",
   "metadata": {},
   "outputs": [],
   "source": [
    "@ray.remote(num_gpus=8, accelerator_type=\"p2\")\n",
    "def train_many():\n",
    "    time.sleep(1)\n",
    "    return get_instance_type()\n",
    "\n",
    "with timer():\n",
    "    print(ray.get(train_many.remote()))"
   ]
  },
  {
   "cell_type": "code",
   "execution_count": null,
   "id": "183577b9",
   "metadata": {
    "scrolled": true
   },
   "outputs": [],
   "source": [
    "from ray.autoscaler.sdk import request_resources\n",
    "\n",
    "# request_resources()"
   ]
  },
  {
   "cell_type": "code",
   "execution_count": null,
   "id": "fe576b29",
   "metadata": {},
   "outputs": [],
   "source": [
    "cluster_resources = ray.cluster_resources()\n",
    "CPUs = int(cluster_resources[\"CPU\"])\n",
    "memory = round(cluster_resources[\"memory\"] / (1000 ** 3))\n",
    "GPUs = round(cluster_resources.get(\"GPU\", 0))\n",
    "print(f\"CPUs = {CPUs}\")\n",
    "print(f\"memory = {memory}G\")\n",
    "print(f\"GPUs = {GPUs}\")"
   ]
  },
  {
   "cell_type": "code",
   "execution_count": null,
   "id": "a8eb9a2a",
   "metadata": {},
   "outputs": [],
   "source": [
    "!kubectl get no -L node.kubernetes.io/instance-type,karpenter.sh/capacity-type"
   ]
  }
 ],
 "metadata": {
  "kernelspec": {
   "display_name": "mlops-world-22-demo",
   "language": "python",
   "name": "mlops-world-22-demo"
  },
  "language_info": {
   "codemirror_mode": {
    "name": "ipython",
    "version": 3
   },
   "file_extension": ".py",
   "mimetype": "text/x-python",
   "name": "python",
   "nbconvert_exporter": "python",
   "pygments_lexer": "ipython3",
   "version": "3.8.8"
  }
 },
 "nbformat": 4,
 "nbformat_minor": 5
}
